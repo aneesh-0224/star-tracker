{
 "cells": [
  {
   "cell_type": "code",
   "execution_count": 1,
   "id": "e06580ca",
   "metadata": {},
   "outputs": [],
   "source": [
    "import math\n",
    "from geopy.geocoders import Nominatim\n",
    "import time\n",
    "from astropy.coordinates import SkyCoord\n",
    "\n",
    "app= Nominatim(user_agent='user')\n",
    "def locations(str) :\n",
    "    time.sleep(1)\n",
    "    try:\n",
    "        return app.geocode(str).raw\n",
    "    except:\n",
    "        print('Check whether what you have typed is correct')"
   ]
  },
  {
   "cell_type": "code",
   "execution_count": 2,
   "id": "768218dd",
   "metadata": {},
   "outputs": [
    {
     "name": "stdout",
     "output_type": "stream",
     "text": [
      "Enter the name of your place :\n",
      "pune\n",
      "18.521428\n",
      "73.8544541\n"
     ]
    }
   ],
   "source": [
    "print('Enter the name of your place :')\n",
    "locat= input()\n",
    "location = locations(locat)\n",
    "lat = location['lat']\n",
    "lon=location['lon']\n",
    "print(lat)\n",
    "print(lon)"
   ]
  },
  {
   "cell_type": "code",
   "execution_count": 3,
   "id": "b61f25b0",
   "metadata": {},
   "outputs": [
    {
     "name": "stdout",
     "output_type": "stream",
     "text": [
      "time.struct_time(tm_year=2022, tm_mon=4, tm_mday=3, tm_hour=6, tm_min=14, tm_sec=56, tm_wday=6, tm_yday=93, tm_isdst=0)\n",
      "22.0\n",
      "4.0\n",
      "3.0\n",
      "6.0\n",
      "14.0\n",
      "56.0\n"
     ]
    }
   ],
   "source": [
    "a=time.gmtime()\n",
    "print(a)\n",
    "\n",
    "yy=float(a.tm_year%100)\n",
    "MM=float(a.tm_mon)\n",
    "dd=float(a.tm_mday)\n",
    "\n",
    "hh=float(a.tm_hour)\n",
    "mm=float(a.tm_min)\n",
    "ss=float(a.tm_sec)\n",
    "\n",
    "print(yy)\n",
    "print(MM)\n",
    "print(dd)\n",
    "print(hh)\n",
    "print(mm)\n",
    "print(ss)\n"
   ]
  },
  {
   "cell_type": "code",
   "execution_count": 4,
   "id": "f9b2917e",
   "metadata": {},
   "outputs": [],
   "source": [
    "# e=datetime.now()\n",
    "# print(e)\n",
    "# print(type(e))\n",
    "\n",
    "# e=str(e)\n",
    "# yy=float(e[2:4])\n",
    "# MM=float(e[5:7])\n",
    "# dd=float(e[8:10])\n",
    "\n",
    "# hh=float(e[11:13])\n",
    "# mm=float(e[14:16])\n",
    "# ss=float(e[17:19])\n",
    "# print(yy)\n",
    "# print(MM)\n",
    "# print(dd)\n",
    "# print(hh)\n",
    "# print(mm)\n",
    "# print(ss)"
   ]
  },
  {
   "cell_type": "code",
   "execution_count": 5,
   "id": "0357da7c",
   "metadata": {},
   "outputs": [
    {
     "name": "stdout",
     "output_type": "stream",
     "text": [
      "24.40126428975775\n",
      "366.01896434636626\n"
     ]
    }
   ],
   "source": [
    "UT= hh +mm/60\n",
    "\n",
    "JD = (367*yy) - int((7*(yy+int((MM+9)/12)))/4) + int((275*MM)/9) + dd + 1721013.5 + (UT/24)\n",
    "GMST = 18.697374558 + 24.06570982441908*(JD - 2451545)\n",
    "GMST=GMST%24\n",
    "long_h=float(lon)/15\n",
    "LST=GMST+float(long_h)+1.5\n",
    "print(LST)\n",
    "\n",
    "if LST < 0:\n",
    "    LST = LST +24\n",
    "    \n",
    "lst=LST*15\n",
    "print(lst)"
   ]
  },
  {
   "cell_type": "code",
   "execution_count": 6,
   "id": "f00a630a",
   "metadata": {},
   "outputs": [],
   "source": [
    "# temp=SkyCoord.from_name(\"M31\", parse=True) \n",
    "# print(temp)"
   ]
  },
  {
   "cell_type": "code",
   "execution_count": 7,
   "id": "b724cc7d",
   "metadata": {},
   "outputs": [
    {
     "name": "stdout",
     "output_type": "stream",
     "text": [
      "0.6719426562646279\n",
      "For JUPITER-\n",
      "ALT =42.21717757750982\n",
      "AZ =231.02869654149956\n"
     ]
    }
   ],
   "source": [
    "\n",
    "#for ra and dec of jupiter\n",
    "ra=325.89166\n",
    "dec=-13.191944\n",
    "ha = lst -ra\n",
    "#converting dec,ra,ha and lat from degrees to radians\n",
    "ra= ra*math.pi/180\n",
    "dec= dec*math.pi/180\n",
    "ha= ha*math.pi/180\n",
    "lat= float(lat)*math.pi/180\n",
    "\n",
    "alt= math.sin(dec)*math.sin(lat) + math.cos(dec)*math.cos(ha)\n",
    "print(alt)\n",
    "alt= math.asin(alt)\n",
    "\n",
    "a= (math.sin(dec) - math.sin(alt)*math.sin(lat))/(math.cos(alt)*math.cos(lat))\n",
    "a=math.acos(a)\n",
    "#converting alt and a from radians to degree\n",
    "alt=alt*180/math.pi\n",
    "a=a*180/math.pi\n",
    "\n",
    "if(math.sin(ha)<0):\n",
    "    az=a\n",
    "else:\n",
    "    az=360-a\n",
    "print('For JUPITER-')\n",
    "print(f'ALT ={alt}')\n",
    "print(f'AZ ={az}')"
   ]
  },
  {
   "cell_type": "code",
   "execution_count": null,
   "id": "65503171",
   "metadata": {},
   "outputs": [],
   "source": []
  }
 ],
 "metadata": {
  "kernelspec": {
   "display_name": "Python 3 (ipykernel)",
   "language": "python",
   "name": "python3"
  },
  "language_info": {
   "codemirror_mode": {
    "name": "ipython",
    "version": 3
   },
   "file_extension": ".py",
   "mimetype": "text/x-python",
   "name": "python",
   "nbconvert_exporter": "python",
   "pygments_lexer": "ipython3",
   "version": "3.9.7"
  }
 },
 "nbformat": 4,
 "nbformat_minor": 5
}
